{
 "cells": [
  {
   "cell_type": "code",
   "execution_count": 1,
   "id": "ffb48586",
   "metadata": {},
   "outputs": [],
   "source": [
    "## Condicionales"
   ]
  },
  {
   "cell_type": "code",
   "execution_count": 2,
   "id": "ab585303",
   "metadata": {},
   "outputs": [
    {
     "name": "stdout",
     "output_type": "stream",
     "text": [
      "Color incorrecto...\n"
     ]
    }
   ],
   "source": [
    "luz = input (\"Digite un color: \")\n",
    "\n",
    "if luz == \"Verde\":\n",
    "    print (\"Puede avanzar!\")\n",
    "elif luz == \"Amarillo\":\n",
    "    print (\"Precaución\")\n",
    "elif luz == \"Rojo\":\n",
    "    print (\"Alto!!!\")\n",
    "else:\n",
    "    print (\"Color incorrecto...\")"
   ]
  }
 ],
 "metadata": {
  "kernelspec": {
   "display_name": "Python 3",
   "language": "python",
   "name": "python3"
  },
  "language_info": {
   "codemirror_mode": {
    "name": "ipython",
    "version": 3
   },
   "file_extension": ".py",
   "mimetype": "text/x-python",
   "name": "python",
   "nbconvert_exporter": "python",
   "pygments_lexer": "ipython3",
   "version": "3.14.0"
  }
 },
 "nbformat": 4,
 "nbformat_minor": 5
}
