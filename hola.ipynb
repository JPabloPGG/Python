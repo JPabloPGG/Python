{
 "cells": [
  {
   "cell_type": "code",
   "execution_count": 2,
   "id": "a117b6b2",
   "metadata": {},
   "outputs": [
    {
     "name": "stdout",
     "output_type": "stream",
     "text": [
      "***Sistema de Reserva de Hoteles***\n",
      "Cliente:  Juan Puentes\n",
      "Dias de estancia:  5\n",
      "Tarifa Diaria:  125900\n",
      "Habitación con vista al mar? True\n",
      "Monto total:  629500\n"
     ]
    }
   ],
   "source": [
    "nombreCliente = input(\"Nombre del Cliente: \")\n",
    "diasEstancia = int(input(\"Dias de estancia: \"))\n",
    "tarifaDiaria = 125900\n",
    "tipoHabitacion = True\n",
    "resultadoEstancia = diasEstancia * tarifaDiaria\n",
    "print (\"***Sistema de Reserva de Hoteles***\")\n",
    "print (\"Cliente: \", nombreCliente)\n",
    "print (\"Dias de estancia: \", diasEstancia)\n",
    "print (\"Tarifa Diaria: \", tarifaDiaria)\n",
    "print (\"Habitación con vista al mar?\", tipoHabitacion)\n",
    "print (\"Monto total: \", resultadoEstancia)"
   ]
  },
  {
   "cell_type": "code",
   "execution_count": 4,
   "id": "5da8f960",
   "metadata": {},
   "outputs": [],
   "source": [
    "cadena = \"Hola Mundo\""
   ]
  },
  {
   "cell_type": "code",
   "execution_count": 5,
   "id": "1ced95bc",
   "metadata": {},
   "outputs": [
    {
     "name": "stdout",
     "output_type": "stream",
     "text": [
      "Hola Mundo\n"
     ]
    }
   ],
   "source": [
    "print (cadena)"
   ]
  },
  {
   "cell_type": "code",
   "execution_count": 8,
   "id": "49e7ae9c",
   "metadata": {},
   "outputs": [
    {
     "data": {
      "text/plain": [
       "'n'"
      ]
     },
     "execution_count": 8,
     "metadata": {},
     "output_type": "execute_result"
    }
   ],
   "source": [
    "cadena [9-2]"
   ]
  },
  {
   "cell_type": "code",
   "execution_count": null,
   "id": "1563e4dd",
   "metadata": {},
   "outputs": [],
   "source": []
  }
 ],
 "metadata": {
  "kernelspec": {
   "display_name": "Python 3",
   "language": "python",
   "name": "python3"
  },
  "language_info": {
   "codemirror_mode": {
    "name": "ipython",
    "version": 3
   },
   "file_extension": ".py",
   "mimetype": "text/x-python",
   "name": "python",
   "nbconvert_exporter": "python",
   "pygments_lexer": "ipython3",
   "version": "3.14.0"
  }
 },
 "nbformat": 4,
 "nbformat_minor": 5
}
