{
 "cells": [
  {
   "cell_type": "code",
   "execution_count": 10,
   "id": "2cd3aafc",
   "metadata": {},
   "outputs": [],
   "source": [
    "## Número par, impar"
   ]
  },
  {
   "cell_type": "code",
   "execution_count": 5,
   "id": "6b7727ee",
   "metadata": {},
   "outputs": [
    {
     "name": "stdout",
     "output_type": "stream",
     "text": [
      "8 es número par!\n"
     ]
    }
   ],
   "source": [
    "num = int(input (\"Ingrese un número: \"))\n",
    "\n",
    "if num % 2 == 0:\n",
    "    print (num, \"es número par!\")\n",
    "else:\n",
    "    print (num, \"no es número par...\")"
   ]
  },
  {
   "cell_type": "code",
   "execution_count": 12,
   "id": "8c0433af",
   "metadata": {},
   "outputs": [],
   "source": [
    "## Número positivo, negativo, cero"
   ]
  },
  {
   "cell_type": "code",
   "execution_count": 9,
   "id": "8d15abd6",
   "metadata": {},
   "outputs": [
    {
     "name": "stdout",
     "output_type": "stream",
     "text": [
      "El número es cero...\n"
     ]
    }
   ],
   "source": [
    "num = int(input (\"Ingrese un número: \"))\n",
    "\n",
    "if num > 0:\n",
    "    print (num, \"es número postivo!\")\n",
    "elif num < 0:\n",
    "    print (num, \"el número es negativo!\")\n",
    "else:\n",
    "    print (\"El número es cero...\")"
   ]
  }
 ],
 "metadata": {
  "kernelspec": {
   "display_name": "Python 3",
   "language": "python",
   "name": "python3"
  },
  "language_info": {
   "codemirror_mode": {
    "name": "ipython",
    "version": 3
   },
   "file_extension": ".py",
   "mimetype": "text/x-python",
   "name": "python",
   "nbconvert_exporter": "python",
   "pygments_lexer": "ipython3",
   "version": "3.14.0"
  }
 },
 "nbformat": 4,
 "nbformat_minor": 5
}
